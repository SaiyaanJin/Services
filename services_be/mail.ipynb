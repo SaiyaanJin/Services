{
 "cells": [
  {
   "cell_type": "code",
   "execution_count": 2,
   "metadata": {},
   "outputs": [],
   "source": [
    "from exchangelib import Credentials, Account, Configuration, DELEGATE, Message, Mailbox, FileAttachment, HTMLBody\n",
    "import os\n",
    "import matplotlib.dates as mdates"
   ]
  },
  {
   "cell_type": "code",
   "execution_count": 3,
   "metadata": {},
   "outputs": [],
   "source": [
    "credentials = Credentials('nldc\\\\00162', 'Sanju@809249')\n",
    "config = Configuration(server='mail.grid-india.in', credentials=credentials)\n",
    "account = Account(primary_smtp_address='sanjaykumar@grid-india.in', config=config,\n",
    "                    autodiscover=False, access_type=DELEGATE)"
   ]
  },
  {
   "cell_type": "code",
   "execution_count": 10,
   "metadata": {},
   "outputs": [],
   "source": [
    "m = Message(\n",
    "        account=account,\n",
    "        subject='Test',\n",
    "        body='',\n",
    "        to_recipients=[\n",
    "            Mailbox(email_address='sanjaykumar@grid-india.in'),\n",
    "        ],)"
   ]
  },
  {
   "cell_type": "code",
   "execution_count": 11,
   "metadata": {},
   "outputs": [
    {
     "data": {
      "text/plain": [
       "True"
      ]
     },
     "execution_count": 11,
     "metadata": {},
     "output_type": "execute_result"
    }
   ],
   "source": [
    "html_str = ''\n",
    "th_str = ''\n",
    "td_str = ''\n",
    "forecast_html = ''\n",
    "\n",
    "rmse_table=''\n",
    "rmse_str = ''\n",
    "html_body = '<html><body>\\\n",
    "                <p style=\"width:100%; padding:20px; background-color:#6495ed; color:#fff \">Forecast comparasion results for {} : </p><br/>\\\n",
    "                  {}\\\n",
    "                  {}\\\n",
    "                  {}<br/>\\\n",
    "                  <p style=\"width:100%; padding:20px; background-color:#6495ed; color:#fff \"\">Forecast for {} </p><br/>\\\n",
    "                  {}\\\n",
    "                  </body></html>'\n",
    "\n",
    "m.body = HTMLBody(html_body)\n",
    "m.send()"
   ]
  },
  {
   "cell_type": "code",
   "execution_count": 12,
   "metadata": {},
   "outputs": [
    {
     "ename": "FileNotFoundError",
     "evalue": "[WinError 3] The system cannot find the path specified: 'E:/Projects/load_forecast/load_forecast_v2'",
     "output_type": "error",
     "traceback": [
      "\u001b[1;31m---------------------------------------------------------------------------\u001b[0m",
      "\u001b[1;31mFileNotFoundError\u001b[0m                         Traceback (most recent call last)",
      "\u001b[1;32md:\\test\\Service Portal\\services_be\\mail.ipynb Cell 5\u001b[0m in \u001b[0;36m<cell line: 1>\u001b[1;34m()\u001b[0m\n\u001b[0;32m      <a href='vscode-notebook-cell:/d%3A/test/Service%20Portal/services_be/mail.ipynb#W2sZmlsZQ%3D%3D?line=0'>1</a>\u001b[0m \u001b[39mtry\u001b[39;00m:\n\u001b[1;32m----> <a href='vscode-notebook-cell:/d%3A/test/Service%20Portal/services_be/mail.ipynb#W2sZmlsZQ%3D%3D?line=1'>2</a>\u001b[0m     os\u001b[39m.\u001b[39;49mchdir(\u001b[39m\"\u001b[39;49m\u001b[39mE:/forecast/load_forecast_v2\u001b[39;49m\u001b[39m\"\u001b[39;49m)\n\u001b[0;32m      <a href='vscode-notebook-cell:/d%3A/test/Service%20Portal/services_be/mail.ipynb#W2sZmlsZQ%3D%3D?line=2'>3</a>\u001b[0m \u001b[39mexcept\u001b[39;00m \u001b[39mFileNotFoundError\u001b[39;00m:\n",
      "\u001b[1;31mFileNotFoundError\u001b[0m: [WinError 3] The system cannot find the path specified: 'E:/forecast/load_forecast_v2'",
      "\nDuring handling of the above exception, another exception occurred:\n",
      "\u001b[1;31mFileNotFoundError\u001b[0m                         Traceback (most recent call last)",
      "\u001b[1;32md:\\test\\Service Portal\\services_be\\mail.ipynb Cell 5\u001b[0m in \u001b[0;36m<cell line: 1>\u001b[1;34m()\u001b[0m\n\u001b[0;32m      <a href='vscode-notebook-cell:/d%3A/test/Service%20Portal/services_be/mail.ipynb#W2sZmlsZQ%3D%3D?line=1'>2</a>\u001b[0m     os\u001b[39m.\u001b[39mchdir(\u001b[39m\"\u001b[39m\u001b[39mE:/forecast/load_forecast_v2\u001b[39m\u001b[39m\"\u001b[39m)\n\u001b[0;32m      <a href='vscode-notebook-cell:/d%3A/test/Service%20Portal/services_be/mail.ipynb#W2sZmlsZQ%3D%3D?line=2'>3</a>\u001b[0m \u001b[39mexcept\u001b[39;00m \u001b[39mFileNotFoundError\u001b[39;00m:\n\u001b[1;32m----> <a href='vscode-notebook-cell:/d%3A/test/Service%20Portal/services_be/mail.ipynb#W2sZmlsZQ%3D%3D?line=3'>4</a>\u001b[0m     os\u001b[39m.\u001b[39;49mchdir(\u001b[39m\"\u001b[39;49m\u001b[39mE:/Projects/load_forecast/load_forecast_v2\u001b[39;49m\u001b[39m\"\u001b[39;49m)\n\u001b[0;32m      <a href='vscode-notebook-cell:/d%3A/test/Service%20Portal/services_be/mail.ipynb#W2sZmlsZQ%3D%3D?line=5'>6</a>\u001b[0m \u001b[39mdef\u001b[39;00m \u001b[39msendDailyForecastMail\u001b[39m(email_to):\n\u001b[0;32m      <a href='vscode-notebook-cell:/d%3A/test/Service%20Portal/services_be/mail.ipynb#W2sZmlsZQ%3D%3D?line=6'>7</a>\u001b[0m     for_date \u001b[39m=\u001b[39m date\u001b[39m.\u001b[39mtoday()  \u001b[39m-\u001b[39m timedelta(days\u001b[39m=\u001b[39m\u001b[39m0\u001b[39m)\n",
      "\u001b[1;31mFileNotFoundError\u001b[0m: [WinError 3] The system cannot find the path specified: 'E:/Projects/load_forecast/load_forecast_v2'"
     ]
    }
   ],
   "source": [
    "try:\n",
    "    os.chdir(\"E:/forecast/load_forecast_v2\")\n",
    "except FileNotFoundError:\n",
    "    os.chdir(\"E:/Projects/load_forecast/load_forecast_v2\")\n",
    "    \n",
    "def sendDailyForecastMail(email_to):\n",
    "    for_date = date.today()  - timedelta(days=0)\n",
    "    compare_date = for_date - timedelta(days=1)\n",
    "    forecast_date = for_date + timedelta(days=1)\n",
    "    ##################################################################################################\n",
    "\n",
    "    credentials = Credentials('nldc\\\\erldcloadforecast', 'Password1')\n",
    "    config = Configuration(server='mail.posoco.in', credentials=credentials)\n",
    "    account = Account(primary_smtp_address='erldcloadforecast@posoco.in', config=config,\n",
    "                      autodiscover=False, access_type=DELEGATE)\n",
    "    regions_map = {'BH_DEMAND': 'BIHAR', 'JH_DEMAND': 'JHARKHAND', 'DVC_DEMAND': 'DVC', 'GR_DEMAND': 'GRIDCO',\\\n",
    "                   'WB_DEMAND': 'WEST BENGAL', 'SI_DEMAND': 'SIKKIM', 'ER_DEMAND': 'EASTERN REGION'}\n",
    "\n",
    "    m = Message(\n",
    "        account=account,\n",
    "        subject='ER Forecast for {} and comparison for {}'.format(forecast_date.strftime('%d-%m-%Y'), compare_date.strftime('%d-%m-%Y')),\n",
    "        body='',\n",
    "        to_recipients=[\n",
    "            Mailbox(email_address=email_to),\n",
    "        ],)\n",
    "\n",
    "    region_list = [\"BIHAR\", \"JHARKHAND\", \"DVC\", \"ODISHA\", \"WEST BENGAL\", \"SIKKIM\", \"EASTERN REGION\"]\n",
    "    COMPARE_PATH = '//10.3.100.24/HTTP-Access/ERForecast/forecast/{}/{}/{}'.format(compare_date.year, compare_date.strftime(\"%b\"), compare_date.strftime(\"%d%m%Y\"))\n",
    "    FORECAST_PATH = '//10.3.100.24/HTTP-Access/ERForecast/forecast/{}/{}/{}'.format(forecast_date.year, forecast_date.strftime(\"%b\"), forecast_date.strftime(\"%d%m%Y\"))\n",
    "    compare_file = 'fc_{}_{}.jpg'\n",
    "    forecast_file = 'f_{}_{}.jpg'\n",
    "    html_str = ''\n",
    "    th_str = ''\n",
    "    td_str = ''\n",
    "    forecast_html = ''\n",
    "    for region in region_list:\n",
    "        region_file_name = compare_file.format(compare_date.strftime(\"%d%m%Y\"), region)\n",
    "        region_file_path = '{}/{}'.format(COMPARE_PATH, region_file_name)\n",
    "        region_file_name = region_file_name.replace(\" \", \"_\")\n",
    "        with open(region_file_path, 'rb') as f:\n",
    "            region_file = FileAttachment(name=region_file_name, content=f.read(), is_inline=True, content_id=region_file_name)\n",
    "            html_str = html_str + '<img src=\"cid:{}\">'.format(region_file_name)\n",
    "            th_str = th_str + ' <th>' + region + '</th>'\n",
    "            td_str = td_str + ' <td>' + str(1) + '</td>'\n",
    "            m.attach(region_file)\n",
    "\n",
    "    for region in region_list:\n",
    "        region_file_name = forecast_file.format(forecast_date.strftime(\"%d%m%Y\"), region)\n",
    "        region_file_path = '{}/{}'.format(FORECAST_PATH, region_file_name)\n",
    "        region_file_name = region_file_name.replace(\" \", \"_\")\n",
    "        with open(region_file_path, 'rb') as f:\n",
    "            region_file = FileAttachment(name=region_file_name, content=f.read(), is_inline=True, content_id=region_file_name)\n",
    "            forecast_html = forecast_html + '<img src=\"cid:{}\">'.format(region_file_name)\n",
    "            m.attach(region_file)\n",
    "\n",
    "#     rmse_file_name = 'forecast/rmse_percent_{}.png'.format(compare_date.strftime(\"%d%m%Y\"))\n",
    "#     with open(rmse_file_name, 'rb') as f:\n",
    "#         rmse_file = FileAttachment(name=rmse_file_name, content=f.read(), is_inline=True, content_id=rmse_file_name)\n",
    "#         rmse_str = '<img src=\"cid:{}\">'.format(rmse_file_name)\n",
    "#         m.attach(rmse_file)\n",
    "        \n",
    "    forecast_compare_file_name = 'forecast_compare_{}.xlsx'.format(compare_date.strftime(\"%d%m%Y\"))\n",
    "    forecast_compare_file_path = '{}/{}'.format(COMPARE_PATH, forecast_compare_file_name)\n",
    "    with open(forecast_compare_file_path, 'rb') as f:\n",
    "        compare_file = FileAttachment(name=forecast_compare_file_name, content=f.read(), is_inline=False, content_id=forecast_compare_file_name)\n",
    "        compare_str = '<img src=\"cid:{}\">'.format(forecast_compare_file_name)\n",
    "        m.attach(compare_file)\n",
    "        \n",
    "    forecast_file_name = 'forecast_{}.xlsx'.format(forecast_date.strftime(\"%d%m%Y\"))\n",
    "    forecast_file_path = '{}/{}'.format(FORECAST_PATH, forecast_file_name)\n",
    "    with open(forecast_file_path, 'rb') as f:\n",
    "        f_file = FileAttachment(name=forecast_file_name, content=f.read(), is_inline=False, content_id=forecast_file_name)\n",
    "        f_str = '<img src=\"cid:{}\">'.format(forecast_file_name)\n",
    "        m.attach(f_file)\n",
    "        \n",
    "\n",
    "\n",
    "    rmse_table=''\n",
    "    rmse_str = ''\n",
    "    html_body = '<html><body>\\\n",
    "                    <p style=\"width:100%; padding:20px; background-color:#6495ed; color:#fff \">Forecast comparasion results for {} : </p><br/>\\\n",
    "                      {}\\\n",
    "                      {}\\\n",
    "                      {}<br/>\\\n",
    "                      <p style=\"width:100%; padding:20px; background-color:#6495ed; color:#fff \"\">Forecast for {} </p><br/>\\\n",
    "                      {}\\\n",
    "                      </body></html>'.format(compare_date.strftime(\"%d-%m-%Y\"), rmse_table, rmse_str, html_str, forecast_date.strftime(\"%d-%m-%Y\"), forecast_html)\n",
    "\n",
    "    m.body = HTMLBody(html_body)\n",
    "    m.send()\n",
    "    print(plt.rcParams['figure.figsize'])\n",
    "    return 0"
   ]
  },
  {
   "cell_type": "code",
   "execution_count": 13,
   "metadata": {},
   "outputs": [],
   "source": [
    "a=[1,2,3,4,5,6]"
   ]
  },
  {
   "cell_type": "code",
   "execution_count": 21,
   "metadata": {},
   "outputs": [
    {
     "data": {
      "text/plain": [
       "([1, 2, 3, 4, 5], [6])"
      ]
     },
     "execution_count": 21,
     "metadata": {},
     "output_type": "execute_result"
    }
   ],
   "source": [
    "a[:-1],a[-1:]"
   ]
  },
  {
   "cell_type": "code",
   "execution_count": 1,
   "metadata": {},
   "outputs": [],
   "source": [
    "x= '3. Sanjay Kumar (00162) 2. Sanjay Kumar (00162) 1. Raju Biswas (raju) :Information Technology'"
   ]
  },
  {
   "cell_type": "code",
   "execution_count": 5,
   "metadata": {},
   "outputs": [],
   "source": [
    "x= \"Soumya Kanti Das (00277)\""
   ]
  },
  {
   "cell_type": "markdown",
   "metadata": {},
   "source": []
  },
  {
   "cell_type": "code",
   "execution_count": 8,
   "metadata": {},
   "outputs": [
    {
     "data": {
      "text/plain": [
       "'Soumya Kanti Das'"
      ]
     },
     "execution_count": 8,
     "metadata": {},
     "output_type": "execute_result"
    }
   ],
   "source": [
    "x.split(\"(\")[0][:-1]"
   ]
  },
  {
   "cell_type": "code",
   "execution_count": 9,
   "metadata": {},
   "outputs": [
    {
     "data": {
      "text/plain": [
       "'00277'"
      ]
     },
     "execution_count": 9,
     "metadata": {},
     "output_type": "execute_result"
    }
   ],
   "source": [
    "x.split(\"(\")[1][:-1]"
   ]
  },
  {
   "cell_type": "code",
   "execution_count": null,
   "metadata": {},
   "outputs": [],
   "source": []
  }
 ],
 "metadata": {
  "kernelspec": {
   "display_name": "Python 3",
   "language": "python",
   "name": "python3"
  },
  "language_info": {
   "codemirror_mode": {
    "name": "ipython",
    "version": 3
   },
   "file_extension": ".py",
   "mimetype": "text/x-python",
   "name": "python",
   "nbconvert_exporter": "python",
   "pygments_lexer": "ipython3",
   "version": "3.10.4"
  },
  "orig_nbformat": 4
 },
 "nbformat": 4,
 "nbformat_minor": 2
}
